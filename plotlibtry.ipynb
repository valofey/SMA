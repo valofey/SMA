{
 "cells": [
  {
   "cell_type": "markdown",
   "metadata": {
    "collapsed": false,
    "jupyter": {
     "outputs_hidden": false
    },
    "pycharm": {
     "name": "#%% md\n"
    }
   },
   "source": [
    "# Slime Mould Algorithm Simulation in Python\n",
    "\n",
    "## Overview\n",
    "\n",
    "This Jupyter Notebook presents a simulation of a Slime Mould Algorithm (SMA) using Python. The primary objective of this simulation is to implement this metaheuristic in a natural setting (agents searching for food). Initially, I contemplated employing compute shaders for this simulation to harness the power of parallel computation and produce nice visuals. However, to maintain simplicity and accessibility, I opted for Matplotlib, a widely used Python library for data visualization.\n",
    "\n",
    "The SMA simulation is built on several core concepts:\n",
    "\n",
    "- **Agent Movement**: Agents move towards food sources based on a calculated 'smell' or odor map.\n",
    "- **Oscillation**: Agents' velocity changes periodically, to model state switching.\n",
    "- **Odor Map**: This map represents the intensity of food odors across the grid, guiding agents towards food sources.\n",
    "- **Dynamic Behavior**: Agent behavior and movement are influenced by various factors, including their position, the odor map, and an adjustable parameter `A_param`.\n",
    "\n",
    "The simulation uses NumPy for efficient numerical computations and Matplotlib for visualizing the simulation steps. Additionally, interactive widgets provided by `ipywidgets` allow users to customize the simulation parameters like the number of agents, food sources, grid size, and simulation steps."
   ]
  },
  {
   "cell_type": "code",
   "execution_count": 68,
   "metadata": {
    "collapsed": false,
    "jupyter": {
     "outputs_hidden": false
    },
    "pycharm": {
     "is_executing": true,
     "name": "#%%\n"
    }
   },
   "outputs": [],
   "source": [
    "# Imports\n",
    "import numpy as np\n",
    "import matplotlib.pyplot as plt\n",
    "import random\n",
    "from IPython.display import clear_output\n",
    "import ipywidgets as widgets\n",
    "from ipywidgets import interact, interact_manual"
   ]
  },
  {
   "cell_type": "markdown",
   "metadata": {
    "collapsed": false,
    "jupyter": {
     "outputs_hidden": false
    },
    "pycharm": {
     "name": "#%% md\n"
    }
   },
   "source": [
    "### Function: initialize_simulation\r\n",
    "\r\n",
    "#### Purpose\r\n",
    "The `initialize_simulation` function sets up the initial conditions for the Slime Mould Algorithm (SMA) simulation. It initializes agents, food sources, and now includes the initialization of a trace grid to record the movement paths of agents.\r\n",
    "\r\n",
    "#### Parameters\r\n",
    "- `grid_size`: The size of the simulation grid.\r\n",
    "- `num_agents`: The number of agents (slime mould entities) to simulate.\r\n",
    "- `num_food_sources`: The number of food sources on the grid.\r\n",
    "- `start_in_middle`: A boolean flag to start agents in the middle of the grid or distribute them randomly.\r\n",
    "\r\n",
    "#### Functionality\r\n",
    "1. **Agent and Food Source Initialization**: Initializes agents and food sources on the grid.\r\n",
    "2. **Trace Grid Initialization**: Creates a `trace_grid` as a NumPy array of zeros, with the same dimensions as the simulation grid. This grid will be used to record the agents' movement paths.\r\n",
    "\r\n",
    "#### Returns\r\n",
    "- `agents`: A list of agent positions.\r\n",
    "- `food_sources`: A list of food source positions.\r\n",
    "- `trace_grid`: A grid to track the agents' paths.\r\n",
    "\r\n",
    "#### Modifications for Tracing\r\n",
    "- This function now initializes an additional grid, `trace_grid`, which is used to record the trails left by agents as they move across the grid.\r\n",
    "\r\n",
    "The addition of the trace grid allows for a more dynamic and visually informative simulation, providing insights into the movement patterns of agents over time."
   ]
  },
  {
   "cell_type": "code",
   "execution_count": 69,
   "metadata": {
    "collapsed": false,
    "jupyter": {
     "outputs_hidden": false
    },
    "pycharm": {
     "is_executing": true,
     "name": "#%%\n"
    }
   },
   "outputs": [],
   "source": [
    "# Function to initialize the grid, agents, and food sources\n",
    "def initialize_simulation(grid_size, num_agents, num_food_sources, start_in_middle):\n",
    "    agents = initialize_agents(grid_size, num_agents, start_in_middle)\n",
    "    trace_grid = np.zeros((grid_size, grid_size))\n",
    "    food_sources = [(random.randint(0, grid_size - 1), random.randint(0, grid_size - 1)) for _ in range(num_food_sources)]\n",
    "    return agents, food_sources, trace_grid"
   ]
  },
  {
   "cell_type": "markdown",
   "metadata": {
    "collapsed": false,
    "jupyter": {
     "outputs_hidden": false
    },
    "pycharm": {
     "name": "#%% md\n"
    }
   },
   "source": [
    "### Function: initialize_agents\n",
    "\n",
    "#### Purpose\n",
    "`initialize_agents` is responsible for placing agents (representing the slime mould) on the simulation grid at the start of the simulation. The function provides an option to either place these agents randomly across the grid or cluster them near the middle.\n",
    "\n",
    "#### Parameters\n",
    "- `grid_size`: An integer representing the dimensions of the square simulation grid (`grid_size x grid_size`).\n",
    "- `num_agents`: The number of agents to be initialized on the grid.\n",
    "- `start_in_middle`: A boolean flag. When `True`, agents are initialized near the center of the grid. If `False`, they are placed randomly across the entire grid.\n",
    "\n",
    "#### Functionality\n",
    "1. **Centralized Initialization (if `start_in_middle` is `True`)**:\n",
    "   - Determines the mid-point of the grid.\n",
    "   - Initializes agents within a small range around this mid-point, creating a localized cluster of agents.\n",
    "2. **Random Initialization (if `start_in_middle` is `False`)**:\n",
    "   - Places each agent at a random location on the grid.\n",
    "   - Ensures a diverse and scattered initial distribution of agents.\n",
    "\n",
    "#### Returns\n",
    "- `agents`: A list of tuples, with each tuple representing the coordinates (x, y) of an agent on the grid. This list forms the initial population of agents for the simulation.\n",
    "\n",
    "This function sets the initial conditions for the agent distribution, a critical aspect influencing the dynamics of the ensuing simulation. The choice of centralized or random initialization can significantly impact the behavior and efficiency of agents in locating food sources."
   ]
  },
  {
   "cell_type": "code",
   "execution_count": 70,
   "metadata": {
    "collapsed": false,
    "jupyter": {
     "outputs_hidden": false
    },
    "pycharm": {
     "name": "#%%\n"
    }
   },
   "outputs": [],
   "source": [
    "# Function to initialize agents on the grid\n",
    "def initialize_agents(grid_size, num_agents, start_in_middle):\n",
    "    if start_in_middle:\n",
    "        mid_point = grid_size // 2\n",
    "        area_range = 3\n",
    "        agents = [(random.randint(mid_point - area_range, mid_point + area_range),\n",
    "                   random.randint(mid_point - area_range, mid_point + area_range)) for _ in range(num_agents)]\n",
    "    else:\n",
    "        agents = [(random.randint(0, grid_size - 1), random.randint(0, grid_size - 1)) for _ in range(num_agents)]\n",
    "    return agents"
   ]
  },
  {
   "cell_type": "markdown",
   "metadata": {
    "collapsed": false,
    "jupyter": {
     "outputs_hidden": false
    },
    "pycharm": {
     "name": "#%% md\n"
    }
   },
   "source": [
    "### Function: create_odor_map\n",
    "\n",
    "#### Purpose\n",
    "The `create_odor_map` function generates a map representing the distribution of odors (from food sources) across the simulation grid. This map is crucial for guiding agents towards food sources.\n",
    "\n",
    "#### Parameters\n",
    "- `food_sources`: A list of tuples, each representing the coordinates of a food source on the grid.\n",
    "- `grid_size`: An integer specifying the size of the grid. The grid is square, with dimensions `grid_size x grid_size`.\n",
    "\n",
    "#### Functionality\n",
    "1. **Grid Coordinate Creation**: Generates a grid of coordinates using `numpy.meshgrid`, creating a two-dimensional grid where each cell represents a point in the simulation space.\n",
    "2. **Food Source Array Conversion**: Converts the list of food source coordinates into a NumPy array for efficient computation.\n",
    "3. **Distance Calculation**: Calculates the Euclidean distance from each grid cell to each food source in a vectorized manner using NumPy. This step is crucial for determining the intensity of the odor at each point on the grid.\n",
    "4. **Minimum Distance Determination**: Identifies the minimum distance from each grid cell to the nearest food source. This step is key in representing the strongest odor perceived at each point.\n",
    "5. **Odor Map Calculation**: Calculates the odor strength as the inverse of the distance, ensuring that closer food sources have a stronger odor. A constant is added to the distance to prevent division by zero.\n",
    "\n",
    "#### Returns\n",
    "- `odor_map`: A 2D NumPy array representing the odor strength at each point on the grid. Higher values indicate stronger odors, guiding agents more effectively towards food sources.\n",
    "\n",
    "This function is integral to the simulation, as it provides the sensory landscape that agents use to navigate towards food sources, mimicking the behavior of real-world slime moulds in response to chemical gradients."
   ]
  },
  {
   "cell_type": "code",
   "execution_count": 71,
   "metadata": {
    "collapsed": false,
    "jupyter": {
     "outputs_hidden": false
    },
    "pycharm": {
     "name": "#%%\n"
    }
   },
   "outputs": [],
   "source": [
    "def create_odor_map(food_sources, grid_size):\n",
    "    # Create a grid of coordinates\n",
    "    x_coords, y_coords = np.meshgrid(np.arange(grid_size), np.arange(grid_size), indexing='ij')\n",
    "\n",
    "    # Convert food_sources to a NumPy array for efficient operations\n",
    "    food_sources_array = np.array(food_sources)\n",
    "\n",
    "    # Calculate distances from each grid cell to each food source in a vectorized manner\n",
    "    distances = np.sqrt((x_coords[:, :, np.newaxis] - food_sources_array[:, 0])**2 +\n",
    "                        (y_coords[:, :, np.newaxis] - food_sources_array[:, 1])**2)\n",
    "\n",
    "    # Find the minimum distance to a food source for each grid cell\n",
    "    min_distances = distances.min(axis=2)\n",
    "\n",
    "    # Calculate the odor strength as the inverse of the distance\n",
    "    odor_map = 1 / (1 + min_distances)  # Adding 1 to avoid division by zero\n",
    "\n",
    "    return odor_map"
   ]
  },
  {
   "cell_type": "markdown",
   "metadata": {
    "collapsed": false,
    "jupyter": {
     "outputs_hidden": false
    },
    "pycharm": {
     "name": "#%% md\n"
    }
   },
   "source": [
    "### Function: calculate_smell_index\n",
    "\n",
    "#### Purpose\n",
    "The `calculate_smell_index` function evaluates and ranks each agent based on their proximity to food sources, as indicated by the odor strength they detect. This ranking helps in simulating the behavior of agents as they navigate towards food sources.\n",
    "\n",
    "#### Parameters\n",
    "- `agents`: A list of tuples, each representing the coordinates (x, y) of an agent on the grid.\n",
    "- `odor_map`: A 2D NumPy array where each element represents the odor strength at that point on the grid. Higher values indicate stronger odors.\n",
    "\n",
    "#### Functionality\n",
    "1. **Odor Strength Calculation**: Determines the odor strength at each agent's location by accessing the corresponding values from the `odor_map`.\n",
    "2. **Smell Index Computation**: Ranks the agents based on the odor strength they experience. This is achieved using `numpy.argsort`, which returns the indices that would sort the agents based on the detected odor strength.\n",
    "\n",
    "#### Returns\n",
    "- `smell_index`: An array of indices that sorts agents in ascending order of the odor strength they detect. Agents detecting stronger odors (closer to food sources) will have higher ranks.\n",
    "\n",
    "This function is crucial for simulating the decision-making process of agents as they navigate the grid. By prioritizing movement towards stronger odors, it mimics a real-world search strategy employed by organisms like slime moulds.\n"
   ]
  },
  {
   "cell_type": "code",
   "execution_count": 72,
   "metadata": {
    "collapsed": false,
    "jupyter": {
     "outputs_hidden": false
    },
    "pycharm": {
     "name": "#%%\n"
    }
   },
   "outputs": [],
   "source": [
    "# Function to calculate the smell index for each agent\n",
    "def calculate_smell_index(agents, odor_map):\n",
    "    agent_smell_strengths = [odor_map[agent[0], agent[1]] for agent in agents]\n",
    "    smell_index = np.argsort(agent_smell_strengths)  # Sort agents based on their smell strength\n",
    "    return smell_index"
   ]
  },
  {
   "cell_type": "markdown",
   "metadata": {
    "collapsed": false,
    "jupyter": {
     "outputs_hidden": false
    },
    "pycharm": {
     "name": "#%% md\n"
    }
   },
   "source": [
    "### Function: update_vc\n",
    "\n",
    "#### Purpose\n",
    "`update_vc` (Variable Component Update) is designed to dynamically adjust a key parameter in the simulation over time. This function calculates a variable component (`vc`) for each simulation step, influencing the agents' movement and decision-making processes. The variable component is a combination of a linearly decreasing term and an oscillatory term.\n",
    "\n",
    "#### Parameters\n",
    "- `step`: The current simulation step, an integer.\n",
    "- `max_steps`: The total number of steps in the simulation, an integer.\n",
    "- `A_PARAM`: A constant parameter that scales the amplitude of the oscillation component.\n",
    "\n",
    "#### Functionality\n",
    "1. **Linear Component Calculation**: Computes a linearly decreasing value based on the current step and the total number of steps.\n",
    "2. **Oscillation Component Calculation**: Calculates an oscillatory term using a sine function, scaled by `A_PARAM`. This introduces a periodic variation to the variable component.\n",
    "3. **Combination and Clipping**: Adds the linear and oscillatory components to form `vc`, and then clips its value within the range `[-A_PARAM, A_PARAM]` to maintain controlled variability.\n",
    "\n",
    "#### Returns\n",
    "- `vc`: The computed variable component for the given step. This value is used in the simulation to modulate agent behaviors dynamically, introducing complexity and realism to their movement patterns.\n",
    "\n",
    "This function plays a critical role in adding dynamism to the simulation, as it allows the behavior of agents to evolve over time, rather than remaining static or purely deterministic."
   ]
  },
  {
   "cell_type": "code",
   "execution_count": 73,
   "metadata": {
    "collapsed": false,
    "jupyter": {
     "outputs_hidden": false
    },
    "pycharm": {
     "name": "#%%\n"
    }
   },
   "outputs": [],
   "source": [
    "# Function to update the variable component (vc) based on the simulation step\n",
    "def update_vc(step, max_steps, A_PARAM):\n",
    "    linear_component = 1 - (step / max_steps)\n",
    "    oscillation_component = A_PARAM * np.sin(np.pi * step / max_steps)\n",
    "    vc = linear_component + oscillation_component\n",
    "    vc = np.clip(vc, -A_PARAM, A_PARAM)\n",
    "    return vc"
   ]
  },
  {
   "cell_type": "markdown",
   "metadata": {
    "collapsed": false,
    "jupyter": {
     "outputs_hidden": false
    },
    "pycharm": {
     "name": "#%% md\n"
    }
   },
   "source": [
    "### Function: approach_food_SMA\n",
    "\n",
    "#### Purpose\n",
    "`approach_food_SMA` (Slime Mould Algorithm for Approaching Food) is the core function that models the behavior of agents as they move towards food sources. This function implements the key mechanics of the SMA, taking into account various factors such as the odor map, the agents' relative positions, and the dynamic variable component to simulate realistic movement towards food.\n",
    "\n",
    "#### Parameters\n",
    "- `agents`: A list of tuples representing the current positions of the agents on the grid.\n",
    "- `food_sources`: A list of tuples indicating the positions of food sources on the grid.\n",
    "- `odor_map`: A 2D NumPy array representing the odor strength at each grid point.\n",
    "- `smell_index`: An array of indices ranking the agents based on the odor strength at their current positions.\n",
    "- `step`: The current step in the simulation.\n",
    "- `max_steps`: The total number of steps in the simulation.\n",
    "- `A_PARAM`: A parameter influencing the amplitude of the oscillatory component in agent movement.\n",
    "- `GRID_SIZE`: The size of the simulation grid.\n",
    "\n",
    "#### Functionality\n",
    "1. **Variable Component Calculation**: Computes the variable component (`vc`) for the current step using `update_vc`.\r",
    "21. **Agent Movement**: Moves each agent towards the nearest food source based on calculated factors like odor strength and agent behavior parameters.3\n",
    "2. **Trace Updating**: Increases the trace intensity on the `trace_grid` at each agent's current position4\r\n",
    "3. **Trace Decay**: Applies a decay to the `trace_grid`, reducing the intensity of the trace over time to simulate a fading trail.\n",
    "\n",
    "#### Returns\r\n",
    "- `new_agents`: The updated positions of the agents.\r\n",
    "- `trace_grid`: The updated grid containing the agents' trails.\n",
    "\n",
    "This function is integral to the simulation, as it encapsulates the decision-making process and movement strategy of the agents, thereby driving the overall dynamics of the SMA simulation."
   ]
  },
  {
   "cell_type": "code",
   "execution_count": 100,
   "metadata": {
    "collapsed": false,
    "jupyter": {
     "outputs_hidden": false
    },
    "pycharm": {
     "name": "#%%\n"
    }
   },
   "outputs": [],
   "source": [
    "# Function for the Slime Mould Algorithm (SMA) model to approach food\n",
    "def approach_food_SMA(agents, food_sources, odor_map, smell_index, step, max_steps, A_PARAM, GRID_SIZE, trace_grid, decay_rate=0.85):\n",
    "    new_agents = []\n",
    "    vc = update_vc(step, max_steps, A_PARAM)\n",
    "\n",
    "    for idx, agent in enumerate(agents):\n",
    "        W = calculate_weight(smell_index, idx, len(agents))\n",
    "        closest_food = min(food_sources, key=lambda x: np.linalg.norm(np.array(x) - np.array(agent)))\n",
    "        direction = np.array(closest_food) - np.array(agent)\n",
    "        distance = np.linalg.norm(direction)\n",
    "\n",
    "        vb = random.uniform(-A_PARAM, A_PARAM) * W\n",
    "        new_position = determine_movement(agent, vb, vc, direction, distance, GRID_SIZE)\n",
    "\n",
    "        # Update the trace grid with the current position of the agent\n",
    "        trace_grid[agent] += 1  # Increase the trace intensity\n",
    "\n",
    "        new_agents.append(new_position)\n",
    "\n",
    "    # Decay the trace intensity over time\n",
    "    trace_grid *= decay_rate\n",
    "    return new_agents, trace_grid"
   ]
  },
  {
   "cell_type": "markdown",
   "metadata": {
    "collapsed": false,
    "jupyter": {
     "outputs_hidden": false
    },
    "pycharm": {
     "name": "#%% md\n"
    }
   },
   "source": [
    "### Function: calculate_weight\n",
    "\n",
    "#### Purpose\n",
    "`calculate_weight` is a supporting function in the Slime Mould Algorithm (SMA) simulation. It calculates a weight for each agent based on its position in the smell index. This weight influences the agent's movement, representing the decision-making process based on the perception of food odors.\n",
    "\n",
    "#### Parameters\n",
    "- `smell_index`: An array of indices that rank agents based on the strength of the odor they detect.\n",
    "- `idx`: The index of the current agent for which the weight is being calculated.\n",
    "- `num_agents`: The total number of agents in the simulation.\n",
    "\n",
    "#### Functionality\n",
    "1. **Weight Calculation**: Determines the weight (`W`) for an agent based on its rank in the smell index.\n",
    "   - If the agent's rank is in the top half (i.e., it detects a stronger odor), `W` is calculated as `1 + log(smell_index[idx] + 1)`.\n",
    "   - If the agent's rank is in the bottom half (i.e., it detects a weaker odor), `W` is calculated as `1 - log(smell_index[idx] + 1)`.\n",
    "2. **Logarithmic Scaling**: The use of a logarithmic function introduces a non-linear scaling, making the weight more sensitive to changes in the agent's position within the smell index.\n",
    "\n",
    "#### Returns\n",
    "- `W`: The calculated weight for the agent. This weight plays a crucial role in modulating the agent's movement, particularly in how it biases the random component of the agent's step.\n",
    "\n",
    "This function adds a layer of complexity to the simulation, as it ensures that agents closer to food sources (with a higher rank in the smell index) behave differently from those farther away, mimicking a realistic biological response to sensory stimuli."
   ]
  },
  {
   "cell_type": "code",
   "execution_count": 75,
   "metadata": {
    "collapsed": false,
    "jupyter": {
     "outputs_hidden": false
    },
    "pycharm": {
     "name": "#%%\n"
    }
   },
   "outputs": [],
   "source": [
    "# Function to calculate the weight of the slime mould based on smell index\n",
    "def calculate_weight(smell_index, idx, num_agents):\n",
    "    if smell_index[idx] < num_agents / 2:\n",
    "        W = 1 + np.log(smell_index[idx] + 1)\n",
    "    else:\n",
    "        W = 1 - np.log(smell_index[idx] + 1)\n",
    "    return W"
   ]
  },
  {
   "cell_type": "markdown",
   "metadata": {
    "collapsed": false,
    "jupyter": {
     "outputs_hidden": false
    },
    "pycharm": {
     "name": "#%% md\n"
    }
   },
   "source": [
    "### Function: determine_movement\n",
    "\n",
    "#### Purpose\n",
    "The `determine_movement` function calculates the new position of an agent in the Slime Mould Algorithm (SMA) simulation. This function takes into account various factors such as the agent's current position, direction towards the food source, and the variable components influencing movement.\n",
    "\n",
    "#### Parameters\n",
    "- `agent`: A tuple representing the current position (x, y) of the agent on the grid.\n",
    "- `vb`: A variable bias component, influencing random movement of the agent.\n",
    "- `vc`: A variable component, dynamically calculated for each simulation step, affecting directed movement.\n",
    "- `direction`: A NumPy array representing the direction vector from the agent towards the closest food source.\n",
    "- `distance`: The distance from the agent to the closest food source.\n",
    "- `GRID_SIZE`: The size of the simulation grid.\n",
    "\n",
    "#### Functionality\n",
    "1. **Movement Calculation**:\n",
    "   - If the distance to the food source is less than half the grid size, the agent's movement is primarily influenced by `vb`, simulating a random search.\n",
    "   - If the distance is greater or equal to half the grid size, the movement is primarily directed by `vc`, simulating a more targeted approach towards the food source.\n",
    "2. **Position Update**: The agent's position is updated based on the calculated movement.\n",
    "3. **Boundary Check**: Ensures that the new position does not exceed the boundaries of the grid. This is achieved using `np.clip` to keep the agent's position within the limits of the grid.\n",
    "\n",
    "#### Returns\n",
    "- A tuple representing the new position (x, y) of the agent on the grid.\n",
    "\n",
    "This function is a key component in the SMA simulation, dictating the movement strategy of each agent. It balances random exploration with directed movement towards food sources, reflecting the adaptive behavior of real-world slime moulds in response to environmental stimuli."
   ]
  },
  {
   "cell_type": "code",
   "execution_count": 76,
   "metadata": {
    "collapsed": false,
    "jupyter": {
     "outputs_hidden": false
    },
    "pycharm": {
     "name": "#%%\n"
    }
   },
   "outputs": [],
   "source": [
    "# Function to determine the new position of an agent\n",
    "def determine_movement(agent, vb, vc, direction, distance, GRID_SIZE):\n",
    "    if distance < GRID_SIZE / 2:\n",
    "        new_position = np.array(agent) + vb * direction\n",
    "    else:\n",
    "        new_position = np.array(agent) + vc * direction\n",
    "    new_position = np.clip(new_position, 0, GRID_SIZE - 1)\n",
    "    return tuple(new_position.astype(int))"
   ]
  },
  {
   "cell_type": "markdown",
   "metadata": {
    "collapsed": false,
    "jupyter": {
     "outputs_hidden": false
    },
    "pycharm": {
     "name": "#%% md\n"
    }
   },
   "source": [
    "### Function: simulate_SMA\r\n",
    "\r\n",
    "#### Purpose\r\n",
    "`simulate_SMA` is the main function that orchestrates the Slime Mould Algorithm (SMA) simulation. It integrates various components of the simulation, such as initializing agents and food sources, calculating odor maps, and updating agent positions. The function also handles the visualization of the simulation process.\r\n",
    "\r\n",
    "#### Parameters\r\n",
    "- `grid_size`: The size of the simulation grid.\r\n",
    "- `num_agents`: The number of agents (slime mould entities) to simulate.\r\n",
    "- `num_food_sources`: The number of food sources to place on the grid.\r\n",
    "- `steps`: The total number of steps for the simulation.\r\n",
    "- `A_param`: A parameter that influences the amplitude of oscillatory components in agent movement.\r\n",
    "- `start_in_middle`: A boolean flag determining whether agents start in the middle of the grid or randomly distributed.\r\n",
    "\r\n",
    "#### Functionality\r\n",
    "1. **Initialization**: Sets up the initial state of the simulation, including agents and food sources.\r\n",
    "2. **Odor Map Generation**: Creates an odor map based on the initial food sources.\r\n",
    "3. **Simulation Loop**: For each step in the simulation:\r\n",
    "   - Calculates the smell index for agents based on the current odor map.\r\n",
    "   - Updates the positions of the agents using `approach_food_SMA`.\r\n",
    "   - Updates the odor map if food sources are consumed.\r\n",
    "   - Visualizes the current state of the simulation.\r\n",
    "   - Checks if all food sources are consumed to potentially end the simulation early.\r\n",
    "4. **Visualization**: Utilizes Matplotlib to display the simulation grid, agents, food sources, and odor map.\r\n",
    "\r\n",
    "#### Visualization\r\n",
    "The function generates two plots:\r\n",
    "- **Agents and Food Sources**: Shows the current positions of agents and food sources on the grid.\r\n",
    "- **Odor Map**: Displays the odor intensity across the grid.\r\n",
    "\r\n",
    "#### Closing the Simulation\r\n",
    "Upon completion or if all food sources are consumed, the function closes the Matplotlib figure to prevent additional rendering.\r\n",
    "\r\n",
    "This function acts as the central hub of the SMA simulation, bringing together all components and steps necessary to simulate the behavior of slime mould in a computational environment."
   ]
  },
  {
   "cell_type": "code",
   "execution_count": 77,
   "metadata": {
    "collapsed": false,
    "jupyter": {
     "outputs_hidden": false
    },
    "pycharm": {
     "name": "#%%\n"
    }
   },
   "outputs": [],
   "source": [
    "# Function to run the slime mould simulation\n",
    "def simulate_SMA(grid_size, num_agents, num_food_sources, steps, A_param, start_in_middle):\n",
    "    global agents, food_sources\n",
    "    agents, food_sources, trace_grid = initialize_simulation(grid_size, num_agents, num_food_sources, start_in_middle)\n",
    "    odor_map = create_odor_map(food_sources, grid_size) if food_sources else np.zeros((grid_size, grid_size))\n",
    "\n",
    "    fig, axs = plt.subplots(1, 2, figsize=(12, 6))\n",
    "\n",
    "    for step in range(steps):\n",
    "        if food_sources:\n",
    "            smell_index = calculate_smell_index(agents, odor_map)\n",
    "            agents, trace_grid = approach_food_SMA(agents, food_sources, odor_map, smell_index, step, steps, A_param, grid_size, trace_grid)\n",
    "            odor_map = update_food_sources(food_sources, agents, odor_map, grid_size)\n",
    "\n",
    "        display_simulation_step(axs, fig, agents, food_sources, odor_map, trace_grid, step, grid_size)  # Pass 'fig' as an argument\n",
    "\n",
    "        if not food_sources:\n",
    "            print(\"All food sources have been consumed. Simulation ended.\")\n",
    "            break\n",
    "\n",
    "    plt.close(fig)"
   ]
  },
  {
   "cell_type": "markdown",
   "metadata": {
    "collapsed": false,
    "jupyter": {
     "outputs_hidden": false
    },
    "pycharm": {
     "name": "#%% md\n"
    }
   },
   "source": [
    "### Function: update_food_sources\n",
    "\n",
    "#### Purpose\n",
    "`update_food_sources` manages the state of food sources in the Slime Mould Algorithm (SMA) simulation. It updates the food sources based on their consumption by agents and accordingly recalculates the odor map to reflect the changes in the environment.\n",
    "\n",
    "#### Parameters\n",
    "- `food_sources`: A list of tuples representing the coordinates of food sources on the grid.\n",
    "- `agents`: A list of tuples indicating the positions of agents on the grid.\n",
    "- `odor_map`: A 2D NumPy array representing the current odor strength at each grid point.\n",
    "- `grid_size`: The size of the simulation grid.\n",
    "\n",
    "#### Functionality\n",
    "1. **Food Consumption Check**: Iterates through the agents to check if any agent is at the same location as a food source. If so, it removes the food source from the list, indicating consumption.\n",
    "2. **Odor Map Update**: If any food source is consumed, the function recalculates the odor map to reflect the new distribution of food sources. This is achieved by calling `create_odor_map`.\n",
    "3. **State Management**: Keeps track of whether any food source has been consumed during the iteration.\n",
    "\n",
    "#### Returns\n",
    "- `odor_map`: An updated 2D NumPy array representing the new odor map after food sources have been consumed or the same odor map if no changes occurred.\n",
    "\n",
    "This function is crucial for maintaining the dynamic nature of the simulation environment. It ensures that the agents' behavior and the odor landscape are consistently aligned with the current state of food sources, enhancing the realism of the simulation."
   ]
  },
  {
   "cell_type": "code",
   "execution_count": 78,
   "metadata": {
    "collapsed": false,
    "jupyter": {
     "outputs_hidden": false
    },
    "pycharm": {
     "name": "#%%\n"
    }
   },
   "outputs": [],
   "source": [
    "# Function to update the food sources after each simulation step\n",
    "def update_food_sources(food_sources, agents, odor_map, grid_size):\n",
    "    food_eaten = False\n",
    "    for agent in agents:\n",
    "        if agent in food_sources:\n",
    "            food_sources.remove(agent)\n",
    "            food_eaten = True\n",
    "    if food_eaten and food_sources:\n",
    "        odor_map = create_odor_map(food_sources, grid_size)\n",
    "    return odor_map"
   ]
  },
  {
   "cell_type": "markdown",
   "metadata": {
    "collapsed": false,
    "jupyter": {
     "outputs_hidden": false
    },
    "pycharm": {
     "name": "#%% md\n"
    }
   },
   "source": [
    "### Function: display_simulation_step\r\n",
    "\r\n",
    "#### Purpose\r\n",
    "`display_simulation_step` visualizes the current state of the Slime Mould Algorithm (SMA) simulation, including the positions of agents, food sources, the odor map, and now the traces left by the agents.\r\n",
    "\r\n",
    "#### Parameters\r\n",
    "- `axs`: An array of Matplotlib axes for plotting the simulation state.\r\n",
    "- `fig`: The Matplotlib figure object that contains the axes.\r\n",
    "- `agents`: A list of tuples representing the positions of agents.\r\n",
    "- `food_sources`: A list of tuples indicating the positions of food sources.\r\n",
    "- `odor_map`: A 2D NumPy array representing the odor strength at each grid point.\r\n",
    "- `trace_grid`: A 2D NumPy array representing the traces left by agents.\r\n",
    "- `step`: The current step of the simulation.\r\n",
    "- `GRID_SIZE`: The size of the simulation grid.\r\n",
    "\r\n",
    "#### Functionality\r\n",
    "1. **Clearing Axes**: Clears the current contents of the axes for new visualizations.\r\n",
    "2. **Creating Display Grid**: Combines the positions of agents, food sources, and the traces into a single grid for display.\r\n",
    "   - Marks agents and food sources with distinct values.\r\n",
    "   - Adds the trace grid to the display grid.\r\n",
    "3. **Visualization**:\r\n",
    "   - The first subplot (`axs[0]`) displays the agents, food sources, and their traces.\r\n",
    "   - The second subplot (`axs[1]`) shows the odor map.\r\n",
    "   - Uses different color mappings for visual distinction and clarity.\r\n",
    "4. **Updating Titles and Display**: Sets titles for each subplot and displays the updated figure.\r\n",
    "5. **Clearing Output**: Clears the output of the previous step to ensure that only the w of the simulation dynamics.\r\n",
    "\r\n",
    "This function is crucial for real-time monitoring and analysis of the SMA simulation, offering an intuitive and visually rich representation of the complex interactions and behaviors within the simulated environment.\r\n"
   ]
  },
  {
   "cell_type": "code",
   "execution_count": 98,
   "metadata": {
    "collapsed": false,
    "jupyter": {
     "outputs_hidden": false
    },
    "pycharm": {
     "name": "#%%\n"
    }
   },
   "outputs": [],
   "source": [
    "def display_simulation_step(axs, fig, agents, food_sources, odor_map, trace_grid, step, GRID_SIZE):\n",
    "    axs[0].clear()\n",
    "    axs[1].clear()\n",
    "\n",
    "    # Create a display grid for agents, food, and traces\n",
    "    display_grid = np.clip(trace_grid, 0, 1)  # Ensure trace values are between 0 and 1\n",
    "\n",
    "    # Mark agents with a specific value (e.g., 2 for red), ensuring no overflow\n",
    "    agent_value = 2\n",
    "    for x, y in agents:\n",
    "        display_grid[x, y] = agent_value\n",
    "\n",
    "    # Mark food sources with another value (e.g., 3 for white), ensuring no overflow\n",
    "    food_value = 3\n",
    "    for x, y in food_sources:\n",
    "        display_grid[x, y] = food_value\n",
    "\n",
    "    # Set custom color map\n",
    "    from matplotlib.colors import ListedColormap\n",
    "    custom_cmap = ListedColormap(['black', '#7D0000', '#FF0000', 'white'])  # Adjust gray shade as needed\n",
    "\n",
    "    # Visualization of the grid with the custom color map\n",
    "    axs[0].imshow(display_grid, cmap=custom_cmap, interpolation='nearest', vmin=0, vmax=3)\n",
    "    axs[0].set_title(f\"Agents & Food Sources (Step {step})\")\n",
    "\n",
    "    # Visualization of the odor map\n",
    "    axs[1].imshow(odor_map, cmap='viridis', interpolation='nearest')\n",
    "    axs[1].set_title(\"Odor Map\")\n",
    "\n",
    "    display(fig)\n",
    "    clear_output(wait=True)"
   ]
  },
  {
   "cell_type": "markdown",
   "metadata": {
    "collapsed": false,
    "jupyter": {
     "outputs_hidden": false
    },
    "pycharm": {
     "name": "#%% md\n"
    }
   },
   "source": [
    "### Interactive Widget: run_simulation\n",
    "\n",
    "#### Purpose\n",
    "`run_simulation` provides an interactive interface for users to easily configure and run the Slime Mould Algorithm (SMA) simulation. It utilizes IPython widgets to create a user-friendly, interactive setup where parameters can be adjusted before running the simulation.\n",
    "\n",
    "#### Parameters\n",
    "- `num_agents`: The number of agents to include in the simulation. Adjustable through an integer slider.\n",
    "- `num_food_sources`: The number of food sources to be placed on the grid. Adjustable through an integer slider.\n",
    "- `grid_size`: The size of the square simulation grid. Adjustable through an integer slider.\n",
    "- `steps`: The total number of steps the simulation will run. Adjustable through an integer slider.\n",
    "- `A_param`: A parameter that influences the amplitude of oscillatory components in agent movement. Adjustable through a float slider.\n",
    "- `start_in_middle`: A boolean checkbox to determine whether agents start in the middle of the grid or are randomly distributed.\n",
    "\n",
    "#### Functionality\n",
    "1. **Parameter Selection**: Allows users to interactively set the parameters of the simulation using sliders and checkboxes.\n",
    "2. **Simulation Execution**: On user interaction, the function gathers the specified parameters and invokes the `simulate_SMA` function to run the simulation with the chosen settings.\n",
    "\n",
    "#### User Interaction\n",
    "- Users can adjust the sliders and checkbox to experiment with different simulation configurations.\n",
    "- The simulation starts or updates when the user triggers the interaction, typically by a button press or slider adjustment.\n",
    "\n",
    "This widget significantly enhances the usability and exploratory potential of the SMA simulation. It empowers users to experiment with different parameters, facilitating a deeper understanding of the simulation dynamics and the behavior of slime mould under various conditions."
   ]
  },
  {
   "cell_type": "code",
   "execution_count": 99,
   "metadata": {
    "collapsed": false,
    "jupyter": {
     "outputs_hidden": false
    },
    "pycharm": {
     "name": "#%%\n"
    }
   },
   "outputs": [
    {
     "data": {
      "application/vnd.jupyter.widget-view+json": {
       "model_id": "b3f44dcfbc71498da7e0438ba9df2676",
       "version_major": 2,
       "version_minor": 0
      },
      "text/plain": [
       "interactive(children=(IntSlider(value=50, description='Agents:', max=500, min=1), IntSlider(value=50, descript…"
      ]
     },
     "metadata": {},
     "output_type": "display_data"
    }
   ],
   "source": [
    "# Interactive widget to run the simulation\n",
    "@interact_manual\n",
    "def run_simulation(num_agents=widgets.IntSlider(min=1, max=500, value=50, description='Agents:'),\n",
    "                   num_food_sources=widgets.IntSlider(min=1, max=500, value=50, description='Food:'),\n",
    "                   grid_size=widgets.IntSlider(min=10, max=250, value=100, description='Grid Size:'),\n",
    "                   steps=widgets.IntSlider(min=10, max=200, value=100, description='Steps:'),\n",
    "                   A_param=widgets.FloatSlider(min=0, max=2, value=1, description='A Parameter:'),\n",
    "                   start_in_middle=widgets.Checkbox(value=False, description='Start in Middle')):\n",
    "    simulate_SMA(grid_size, num_agents, num_food_sources, steps, A_param, start_in_middle)"
   ]
  },
  {
   "cell_type": "code",
   "execution_count": null,
   "metadata": {},
   "outputs": [],
   "source": []
  }
 ],
 "metadata": {
  "kernelspec": {
   "display_name": "Python 3",
   "language": "python",
   "name": "python3"
  },
  "language_info": {
   "codemirror_mode": {
    "name": "ipython",
    "version": 3
   },
   "file_extension": ".py",
   "mimetype": "text/x-python",
   "name": "python",
   "nbconvert_exporter": "python",
   "pygments_lexer": "ipython3",
   "version": "3.10.10"
  }
 },
 "nbformat": 4,
 "nbformat_minor": 4
}
